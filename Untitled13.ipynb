{
 "cells": [
  {
   "cell_type": "code",
   "execution_count": null,
   "metadata": {},
   "outputs": [
    {
     "name": "stderr",
     "output_type": "stream",
     "text": [
      "Exception in Tkinter callback\n",
      "Traceback (most recent call last):\n",
      "  File \"C:\\Users\\HP\\Anaconda3\\lib\\tkinter\\__init__.py\", line 1705, in __call__\n",
      "    return self.func(*args)\n",
      "  File \"<ipython-input-3-904625bc8d78>\", line 50, in go\n",
      "    pix()\n",
      "  File \"<ipython-input-3-904625bc8d78>\", line 65, in pix\n",
      "    im = Image.open(filename, 'r')\n",
      "NameError: name 'filename' is not defined\n"
     ]
    }
   ],
   "source": [
    "from tkinter import *\n",
    "from tkinter.filedialog import askopenfilename\n",
    "from PIL import Image\n",
    "window = Tk()\n",
    "window.title(\"Anomaly Detection\")\n",
    "window.configure(background='#0B4F6C')\n",
    "\n",
    "label = Label(text=\"Anomaly Detection\",bg='#0B4F6C',fg='black',font=(\"Helvetica\", 30))\n",
    "#label.font(size=30)\n",
    "label.pack()\n",
    "\n",
    "\n",
    "def Home(): #selecting a file function\n",
    "    Tk().withdraw()\n",
    "    window.mainloop()\n",
    "    \n",
    "home1= Button(window, text=\"HOME\",bg= '#EDAE20',command=Home,fg='black') #home button\n",
    "home1.pack()\n",
    "\n",
    "\n",
    "var = IntVar()\n",
    "var1 = IntVar() \n",
    "var2 = IntVar()\n",
    "label1 = Label(text=\"Select Algorithm for Detecting Anamoly.\",bg='#0B4F6C',fg='white',font=(\"Helvetica\", 20))\n",
    "#label.font(size=30)\n",
    "label1.place(relx=0.6, rely=0.2, anchor=CENTER)\n",
    "\n",
    "c = Checkbutton(window, text=\"DNN\", variable=var, bg='#0B4F6C',font=(\"Helvetica\", 18)) #check button code\n",
    "c.place(relx=0.35, rely=0.3, anchor=CENTER)\n",
    "d = Checkbutton(window, text=\"CNN\", variable=var1, bg='#0B4F6C',font=(\"Helvetica\", 18))\n",
    "d.place(relx=0.35, rely=0.35, anchor=CENTER)\n",
    "e = Checkbutton(window, text=\"Custom\", variable=var2, bg='#0B4F6C',font=(\"Helvetica\", 18))\n",
    "e.place(relx=0.37, rely=0.4, anchor=CENTER)\n",
    "\n",
    "\n",
    "def click(): #selecting a file function\n",
    "    Tk().withdraw()\n",
    "    filename= askopenfilename(filetypes=(('Image', '*.jpg'), ('All Files', '*.*')))\n",
    "    b1 =Label(text='Selected File is : ' + filename)\n",
    "    b1.place(relx=0.5,rely=0.5, anchor=CENTER)\n",
    "    return filename\n",
    "butt= Button(window, text=\"Choose File for processing\",bg= '#EDAE20',command=click,fg='black', height=1, width=30, border=10) #selecting a file\n",
    "butt.place(relx=0.5, rely=0.6, anchor=CENTER)\n",
    "\n",
    "\n",
    "\n",
    "\n",
    "def go(): #selecting a file function\n",
    "    Tk().withdraw()\n",
    "    pix()\n",
    "    '''\n",
    "    if filename is Null:\n",
    "        error = Label(text=\"ERROR! Please Select a file.\")\n",
    "        error.place(relx=0.5,rely=0.5, anchor=CENTER)\n",
    "    else:\n",
    "        filename= askopenfilename()\n",
    "        butt.text=filename\n",
    "    '''\n",
    "\n",
    "\n",
    "go = Button(window, text=\"Go\",bg= '#EDAE20',command=go,fg='black', height= 1, width=10,border=10) # GO button\n",
    "go.place(relx=0.5, rely=0.7, anchor=CENTER)\n",
    "\n",
    "def pix():\n",
    "    im = Image.open(filename, 'r')\n",
    "    pix_val = list(im.getdata())\n",
    "    pix_val_flat = [x for sets in pix_val for x in sets]\n",
    "    pix_val\n",
    "    pix_val_flat\n",
    "\n",
    "window.minsize(800,650)\n",
    "window.mainloop()"
   ]
  },
  {
   "cell_type": "code",
   "execution_count": null,
   "metadata": {},
   "outputs": [],
   "source": []
  },
  {
   "cell_type": "code",
   "execution_count": null,
   "metadata": {},
   "outputs": [],
   "source": []
  }
 ],
 "metadata": {
  "kernelspec": {
   "display_name": "Python 3",
   "language": "python",
   "name": "python3"
  },
  "language_info": {
   "codemirror_mode": {
    "name": "ipython",
    "version": 3
   },
   "file_extension": ".py",
   "mimetype": "text/x-python",
   "name": "python",
   "nbconvert_exporter": "python",
   "pygments_lexer": "ipython3",
   "version": "3.7.4"
  }
 },
 "nbformat": 4,
 "nbformat_minor": 2
}
